{
 "cells": [
  {
   "cell_type": "code",
   "execution_count": 1,
   "metadata": {},
   "outputs": [],
   "source": [
    "import matplotlib\n",
    "import tensorflow as tf \n",
    "import evaluate, graph\n",
    "import os,sys,glob"
   ]
  },
  {
   "cell_type": "markdown",
   "metadata": {},
   "source": [
    "# Evaluating Text2Mel"
   ]
  },
  {
   "cell_type": "code",
   "execution_count": 2,
   "metadata": {},
   "outputs": [
    {
     "data": {
      "text/plain": [
       "['./runs_selected/m1_text2mel_lr4e-4_weight_loss/params.json',\n",
       " './runs_selected/m2_text2mel_lr4e-4_attn_loss_50k/params.json',\n",
       " './runs_selected/m3_text2mel_lr4e-4_attn_loss_localEnc/params.json',\n",
       " './runs_selected/m4_text2mel_lr4e-4_posEnc_localEnc_60k/params.json',\n",
       " './runs_selected/m5_text2mel_lr4e-4_posEnc_localEnc_L1_60k/params.json']"
      ]
     },
     "execution_count": 2,
     "metadata": {},
     "output_type": "execute_result"
    }
   ],
   "source": [
    "model_paths = sorted(glob.glob('./runs_selected/*text2mel*/params.json'))\n",
    "model_paths"
   ]
  },
  {
   "cell_type": "code",
   "execution_count": 3,
   "metadata": {
    "scrolled": true
   },
   "outputs": [
    {
     "name": "stderr",
     "output_type": "stream",
     "text": [
      "Loading in filenames from load_data with mode: train_text2mel\n"
     ]
    },
    {
     "name": "stdout",
     "output_type": "stream",
     "text": [
      "Evaluating training data for ./runs_selected/m1_text2mel_lr4e-4_weight_loss/params.json\n",
      "Running predictions with model from: ./runs_selected/m1_text2mel_lr4e-4_weight_loss/params.json\n"
     ]
    },
    {
     "name": "stderr",
     "output_type": "stream",
     "text": [
      "Created input queues for data, total num_batch: 163\n",
      "Defined load_spectrograms op with mode: train_text2mel\n",
      "Created 2 bucketed queues from min/max len 12/188, batch_size: 64, capacity: 128\n",
      "Building training graph for Text2Mel ...\n",
      "Initialized input character embeddings with dim: (64, ?, 128)\n",
      "Encoded K, V with dim: (64, ?, 256)\n",
      "Encoded Q with dim: (64, ?, 256)\n",
      "Encoded R with dim: (64, ?, 256)\n",
      "Concatenated RQ with dim: (64, ?, 512)\n",
      "Decoded Yhat with dim: (64, ?, 80)\n",
      "Added guided attention loss over A: Tensor(\"Reshape_1:0\", shape=(64, ?, ?), dtype=float32)\n"
     ]
    },
    {
     "name": "stdout",
     "output_type": "stream",
     "text": [
      "INFO:tensorflow:Restoring parameters from ./runs_selected/m1_text2mel_lr4e-4_weight_loss/model.ckpt\n"
     ]
    },
    {
     "name": "stderr",
     "output_type": "stream",
     "text": [
      "Restoring parameters from ./runs_selected/m1_text2mel_lr4e-4_weight_loss/model.ckpt\n"
     ]
    },
    {
     "name": "stdout",
     "output_type": "stream",
     "text": [
      "INFO:tensorflow:Starting standard services.\n"
     ]
    },
    {
     "name": "stderr",
     "output_type": "stream",
     "text": [
      "Starting standard services.\n"
     ]
    },
    {
     "name": "stdout",
     "output_type": "stream",
     "text": [
      "INFO:tensorflow:Saving checkpoint to path ./runs_selected/m1_text2mel_lr4e-4_weight_loss/model.ckpt\n"
     ]
    },
    {
     "name": "stderr",
     "output_type": "stream",
     "text": [
      "Saving checkpoint to path ./runs_selected/m1_text2mel_lr4e-4_weight_loss/model.ckpt\n"
     ]
    },
    {
     "name": "stdout",
     "output_type": "stream",
     "text": [
      "INFO:tensorflow:Starting queue runners.\n"
     ]
    },
    {
     "name": "stderr",
     "output_type": "stream",
     "text": [
      "Starting queue runners.\n",
      "  0%|                                          | 0/163 [00:00<?, ?b/s]Prediction loss: 0.6957, L1: 0.0325, CE: 0.5309, Att: 0.0023\n",
      " 12%|████                             | 20/163 [01:11<08:33,  3.59s/b]Prediction loss: 0.4810, L1: 0.0235, CE: 0.3603, Att: 0.0031\n",
      " 25%|████████                         | 40/163 [02:08<06:35,  3.21s/b]Prediction loss: 0.6931, L1: 0.0325, CE: 0.5282, Att: 0.0023\n",
      " 37%|████████████▏                    | 60/163 [03:11<05:28,  3.19s/b]Prediction loss: 0.4728, L1: 0.0225, CE: 0.3573, Att: 0.0028\n",
      " 49%|████████████████▏                | 80/163 [04:09<04:18,  3.11s/b]Prediction loss: 0.5249, L1: 0.0251, CE: 0.3958, Att: 0.0034\n",
      " 61%|███████████████████▋            | 100/163 [05:06<03:13,  3.06s/b]Prediction loss: 0.4442, L1: 0.0214, CE: 0.3345, Att: 0.0027\n",
      " 74%|███████████████████████▌        | 120/163 [06:07<02:11,  3.06s/b]Prediction loss: 0.5008, L1: 0.0243, CE: 0.3762, Att: 0.0032\n",
      " 86%|███████████████████████████▍    | 140/163 [07:05<01:09,  3.04s/b]Prediction loss: 0.6716, L1: 0.0314, CE: 0.5124, Att: 0.0024\n",
      " 98%|███████████████████████████████▍| 160/163 [08:03<00:09,  3.02s/b]Prediction loss: 0.5006, L1: 0.0240, CE: 0.3774, Att: 0.0031\n",
      "Completed predictions: Avg loss: 0.6052, L1: 0.0288, CE: 0.4584, Att: 0.0028\n",
      "Loading in filenames from load_data with mode: val_text2mel\n"
     ]
    },
    {
     "name": "stdout",
     "output_type": "stream",
     "text": [
      "Evaluating validation data for ./runs_selected/m1_text2mel_lr4e-4_weight_loss/params.json\n",
      "Running predictions with model from: ./runs_selected/m1_text2mel_lr4e-4_weight_loss/params.json\n"
     ]
    },
    {
     "name": "stderr",
     "output_type": "stream",
     "text": [
      "Created input queues for data, total num_batch: 40\n",
      "Defined load_spectrograms op with mode: val_text2mel\n",
      "Created 2 bucketed queues from min/max len 16/183, batch_size: 64, capacity: 128\n",
      "Building training graph for Text2Mel ...\n",
      "Initialized input character embeddings with dim: (64, ?, 128)\n",
      "Encoded K, V with dim: (64, ?, 256)\n",
      "Encoded Q with dim: (64, ?, 256)\n",
      "Encoded R with dim: (64, ?, 256)\n",
      "Concatenated RQ with dim: (64, ?, 512)\n",
      "Decoded Yhat with dim: (64, ?, 80)\n",
      "Added guided attention loss over A: Tensor(\"Reshape_1:0\", shape=(64, ?, ?), dtype=float32)\n"
     ]
    },
    {
     "name": "stdout",
     "output_type": "stream",
     "text": [
      "INFO:tensorflow:Restoring parameters from ./runs_selected/m1_text2mel_lr4e-4_weight_loss/model.ckpt\n"
     ]
    },
    {
     "name": "stderr",
     "output_type": "stream",
     "text": [
      "Restoring parameters from ./runs_selected/m1_text2mel_lr4e-4_weight_loss/model.ckpt\n"
     ]
    },
    {
     "name": "stdout",
     "output_type": "stream",
     "text": [
      "INFO:tensorflow:Starting standard services.\n"
     ]
    },
    {
     "name": "stderr",
     "output_type": "stream",
     "text": [
      "Starting standard services.\n"
     ]
    },
    {
     "name": "stdout",
     "output_type": "stream",
     "text": [
      "INFO:tensorflow:Saving checkpoint to path ./runs_selected/m1_text2mel_lr4e-4_weight_loss/model.ckpt\n"
     ]
    },
    {
     "name": "stderr",
     "output_type": "stream",
     "text": [
      "Saving checkpoint to path ./runs_selected/m1_text2mel_lr4e-4_weight_loss/model.ckpt\n"
     ]
    },
    {
     "name": "stdout",
     "output_type": "stream",
     "text": [
      "INFO:tensorflow:Starting queue runners.\n"
     ]
    },
    {
     "name": "stderr",
     "output_type": "stream",
     "text": [
      "Starting queue runners.\n",
      "  0%|                                           | 0/40 [00:00<?, ?b/s]Prediction loss: 0.7353, L1: 0.0568, CE: 0.4475, Att: 0.0036\n",
      " 50%|█████████████████                 | 20/40 [01:11<01:11,  3.57s/b]Prediction loss: 0.8919, L1: 0.0697, CE: 0.5414, Att: 0.0022\n",
      "Completed predictions: Avg loss: 0.7832, L1: 0.0611, CE: 0.4748, Att: 0.0027\n",
      "Loading in filenames from load_data with mode: train_text2mel\n"
     ]
    },
    {
     "name": "stdout",
     "output_type": "stream",
     "text": [
      "Evaluating training data for ./runs_selected/m2_text2mel_lr4e-4_attn_loss_50k/params.json\n",
      "Running predictions with model from: ./runs_selected/m2_text2mel_lr4e-4_attn_loss_50k/params.json\n"
     ]
    },
    {
     "name": "stderr",
     "output_type": "stream",
     "text": [
      "Created input queues for data, total num_batch: 163\n",
      "Defined load_spectrograms op with mode: train_text2mel\n",
      "Created 2 bucketed queues from min/max len 12/188, batch_size: 64, capacity: 128\n",
      "Building training graph for Text2Mel ...\n",
      "Initialized input character embeddings with dim: (64, ?, 128)\n",
      "Encoded K, V with dim: (64, ?, 256)\n",
      "Encoded Q with dim: (64, ?, 256)\n",
      "Encoded R with dim: (64, ?, 256)\n",
      "Concatenated RQ with dim: (64, ?, 512)\n",
      "Decoded Yhat with dim: (64, ?, 80)\n",
      "Added guided attention loss over A: Tensor(\"Reshape_1:0\", shape=(64, ?, ?), dtype=float32)\n"
     ]
    },
    {
     "name": "stdout",
     "output_type": "stream",
     "text": [
      "INFO:tensorflow:Restoring parameters from ./runs_selected/m2_text2mel_lr4e-4_attn_loss_50k/model.ckpt\n"
     ]
    },
    {
     "name": "stderr",
     "output_type": "stream",
     "text": [
      "Restoring parameters from ./runs_selected/m2_text2mel_lr4e-4_attn_loss_50k/model.ckpt\n"
     ]
    },
    {
     "name": "stdout",
     "output_type": "stream",
     "text": [
      "INFO:tensorflow:Starting standard services.\n"
     ]
    },
    {
     "name": "stderr",
     "output_type": "stream",
     "text": [
      "Starting standard services.\n"
     ]
    },
    {
     "name": "stdout",
     "output_type": "stream",
     "text": [
      "INFO:tensorflow:Saving checkpoint to path ./runs_selected/m2_text2mel_lr4e-4_attn_loss_50k/model.ckpt\n"
     ]
    },
    {
     "name": "stderr",
     "output_type": "stream",
     "text": [
      "Saving checkpoint to path ./runs_selected/m2_text2mel_lr4e-4_attn_loss_50k/model.ckpt\n"
     ]
    },
    {
     "name": "stdout",
     "output_type": "stream",
     "text": [
      "INFO:tensorflow:Starting queue runners.\n"
     ]
    },
    {
     "name": "stderr",
     "output_type": "stream",
     "text": [
      "Starting queue runners.\n",
      "  0%|                                          | 0/163 [00:00<?, ?b/s]Prediction loss: 0.6680, L1: 0.0285, CE: 0.5252, Att: 0.0002\n",
      " 12%|████                             | 20/163 [01:12<08:36,  3.61s/b]Prediction loss: 0.4243, L1: 0.0180, CE: 0.3334, Att: 0.0009\n",
      " 25%|████████                         | 40/163 [02:10<06:42,  3.27s/b]Prediction loss: 0.6457, L1: 0.0279, CE: 0.5060, Att: 0.0002\n",
      " 37%|████████████▏                    | 60/163 [03:10<05:27,  3.18s/b]Prediction loss: 0.5103, L1: 0.0217, CE: 0.4014, Att: 0.0004\n",
      " 49%|████████████████▏                | 80/163 [04:06<04:16,  3.09s/b]Prediction loss: 0.6681, L1: 0.0284, CE: 0.5258, Att: 0.0004\n",
      " 61%|███████████████████▋            | 100/163 [05:09<03:14,  3.09s/b]Prediction loss: 0.6638, L1: 0.0285, CE: 0.5207, Att: 0.0004\n",
      " 74%|███████████████████████▌        | 120/163 [06:05<02:10,  3.04s/b]Prediction loss: 0.5075, L1: 0.0215, CE: 0.3994, Att: 0.0004\n",
      " 86%|███████████████████████████▍    | 140/163 [07:04<01:09,  3.03s/b]Prediction loss: 0.6638, L1: 0.0283, CE: 0.5220, Att: 0.0003\n",
      " 98%|███████████████████████████████▍| 160/163 [08:02<00:09,  3.02s/b]Prediction loss: 0.5255, L1: 0.0227, CE: 0.4117, Att: 0.0004\n",
      "Completed predictions: Avg loss: 0.5802, L1: 0.0249, CE: 0.4556, Att: 0.0004\n",
      "Loading in filenames from load_data with mode: val_text2mel\n"
     ]
    },
    {
     "name": "stdout",
     "output_type": "stream",
     "text": [
      "Evaluating validation data for ./runs_selected/m2_text2mel_lr4e-4_attn_loss_50k/params.json\n",
      "Running predictions with model from: ./runs_selected/m2_text2mel_lr4e-4_attn_loss_50k/params.json\n"
     ]
    },
    {
     "name": "stderr",
     "output_type": "stream",
     "text": [
      "Created input queues for data, total num_batch: 40\n",
      "Defined load_spectrograms op with mode: val_text2mel\n",
      "Created 2 bucketed queues from min/max len 16/183, batch_size: 64, capacity: 128\n",
      "Building training graph for Text2Mel ...\n",
      "Initialized input character embeddings with dim: (64, ?, 128)\n",
      "Encoded K, V with dim: (64, ?, 256)\n",
      "Encoded Q with dim: (64, ?, 256)\n",
      "Encoded R with dim: (64, ?, 256)\n",
      "Concatenated RQ with dim: (64, ?, 512)\n",
      "Decoded Yhat with dim: (64, ?, 80)\n",
      "Added guided attention loss over A: Tensor(\"Reshape_1:0\", shape=(64, ?, ?), dtype=float32)\n"
     ]
    },
    {
     "name": "stdout",
     "output_type": "stream",
     "text": [
      "INFO:tensorflow:Restoring parameters from ./runs_selected/m2_text2mel_lr4e-4_attn_loss_50k/model.ckpt\n"
     ]
    },
    {
     "name": "stderr",
     "output_type": "stream",
     "text": [
      "Restoring parameters from ./runs_selected/m2_text2mel_lr4e-4_attn_loss_50k/model.ckpt\n"
     ]
    },
    {
     "name": "stdout",
     "output_type": "stream",
     "text": [
      "INFO:tensorflow:Starting standard services.\n"
     ]
    },
    {
     "name": "stderr",
     "output_type": "stream",
     "text": [
      "Starting standard services.\n"
     ]
    },
    {
     "name": "stdout",
     "output_type": "stream",
     "text": [
      "INFO:tensorflow:Saving checkpoint to path ./runs_selected/m2_text2mel_lr4e-4_attn_loss_50k/model.ckpt\n"
     ]
    },
    {
     "name": "stderr",
     "output_type": "stream",
     "text": [
      "Saving checkpoint to path ./runs_selected/m2_text2mel_lr4e-4_attn_loss_50k/model.ckpt\n"
     ]
    },
    {
     "name": "stdout",
     "output_type": "stream",
     "text": [
      "INFO:tensorflow:Starting queue runners.\n"
     ]
    },
    {
     "name": "stderr",
     "output_type": "stream",
     "text": [
      "Starting queue runners.\n",
      "  0%|                                           | 0/40 [00:00<?, ?b/s]Prediction loss: 0.6537, L1: 0.0450, CE: 0.4283, Att: 0.0003\n",
      " 50%|█████████████████                 | 20/40 [01:09<01:09,  3.47s/b]Prediction loss: 0.8055, L1: 0.0551, CE: 0.5296, Att: 0.0003\n",
      "Completed predictions: Avg loss: 0.7039, L1: 0.0484, CE: 0.4614, Att: 0.0004\n",
      "Loading in filenames from load_data with mode: train_text2mel\n"
     ]
    },
    {
     "name": "stdout",
     "output_type": "stream",
     "text": [
      "Evaluating training data for ./runs_selected/m3_text2mel_lr4e-4_attn_loss_localEnc/params.json\n",
      "Running predictions with model from: ./runs_selected/m3_text2mel_lr4e-4_attn_loss_localEnc/params.json\n"
     ]
    },
    {
     "name": "stderr",
     "output_type": "stream",
     "text": [
      "Created input queues for data, total num_batch: 163\n",
      "Defined load_spectrograms op with mode: train_text2mel\n",
      "Created 2 bucketed queues from min/max len 12/188, batch_size: 64, capacity: 128\n",
      "Building training graph for Text2Mel ...\n",
      "Initialized input character embeddings with dim: (64, ?, 256)\n",
      "Encoded K, V with dim: (64, ?, 256)\n",
      "Encoded Q with dim: (64, ?, 256)\n",
      "Encoded R with dim: (64, ?, 256)\n",
      "Concatenated RQ with dim: (64, ?, 512)\n",
      "Decoded Yhat with dim: (64, ?, 80)\n",
      "Added guided attention loss over A: Tensor(\"Reshape_1:0\", shape=(64, ?, ?), dtype=float32)\n"
     ]
    },
    {
     "name": "stdout",
     "output_type": "stream",
     "text": [
      "INFO:tensorflow:Restoring parameters from ./runs_selected/m3_text2mel_lr4e-4_attn_loss_localEnc/model_gs_061k\n"
     ]
    },
    {
     "name": "stderr",
     "output_type": "stream",
     "text": [
      "Restoring parameters from ./runs_selected/m3_text2mel_lr4e-4_attn_loss_localEnc/model_gs_061k\n"
     ]
    },
    {
     "name": "stdout",
     "output_type": "stream",
     "text": [
      "INFO:tensorflow:Starting standard services.\n"
     ]
    },
    {
     "name": "stderr",
     "output_type": "stream",
     "text": [
      "Starting standard services.\n"
     ]
    },
    {
     "name": "stdout",
     "output_type": "stream",
     "text": [
      "INFO:tensorflow:Saving checkpoint to path ./runs_selected/m3_text2mel_lr4e-4_attn_loss_localEnc/model.ckpt\n"
     ]
    },
    {
     "name": "stderr",
     "output_type": "stream",
     "text": [
      "Saving checkpoint to path ./runs_selected/m3_text2mel_lr4e-4_attn_loss_localEnc/model.ckpt\n"
     ]
    },
    {
     "name": "stdout",
     "output_type": "stream",
     "text": [
      "INFO:tensorflow:Starting queue runners.\n"
     ]
    },
    {
     "name": "stderr",
     "output_type": "stream",
     "text": [
      "Starting queue runners.\n",
      "  0%|                                          | 0/163 [00:00<?, ?b/s]Prediction loss: 0.6575, L1: 0.0279, CE: 0.5176, Att: 0.0004\n",
      " 12%|████                             | 20/163 [01:08<08:09,  3.42s/b]Prediction loss: 0.4072, L1: 0.0173, CE: 0.3192, Att: 0.0013\n",
      " 25%|████████                         | 40/163 [02:08<06:35,  3.22s/b]Prediction loss: 0.6481, L1: 0.0274, CE: 0.5108, Att: 0.0002\n",
      " 37%|████████████▏                    | 60/163 [03:08<05:23,  3.14s/b]Prediction loss: 0.6671, L1: 0.0282, CE: 0.5258, Att: 0.0003\n",
      " 49%|████████████████▏                | 80/163 [04:06<04:16,  3.09s/b]Prediction loss: 0.5002, L1: 0.0212, CE: 0.3936, Att: 0.0006\n",
      " 61%|███████████████████▋            | 100/163 [05:05<03:12,  3.06s/b]Prediction loss: 0.6517, L1: 0.0275, CE: 0.5141, Att: 0.0002\n",
      " 74%|███████████████████████▌        | 120/163 [06:07<02:11,  3.06s/b]Prediction loss: 0.4819, L1: 0.0206, CE: 0.3787, Att: 0.0005\n",
      " 86%|███████████████████████████▍    | 140/163 [07:04<01:09,  3.03s/b]Prediction loss: 0.5094, L1: 0.0218, CE: 0.4000, Att: 0.0005\n",
      " 98%|███████████████████████████████▍| 160/163 [08:02<00:09,  3.02s/b]Prediction loss: 0.5233, L1: 0.0224, CE: 0.4108, Att: 0.0004\n",
      "Completed predictions: Avg loss: 0.5780, L1: 0.0245, CE: 0.4549, Att: 0.0004\n",
      "Loading in filenames from load_data with mode: val_text2mel\n"
     ]
    },
    {
     "name": "stdout",
     "output_type": "stream",
     "text": [
      "Evaluating validation data for ./runs_selected/m3_text2mel_lr4e-4_attn_loss_localEnc/params.json\n",
      "Running predictions with model from: ./runs_selected/m3_text2mel_lr4e-4_attn_loss_localEnc/params.json\n"
     ]
    },
    {
     "name": "stderr",
     "output_type": "stream",
     "text": [
      "Created input queues for data, total num_batch: 40\n",
      "Defined load_spectrograms op with mode: val_text2mel\n",
      "Created 2 bucketed queues from min/max len 16/183, batch_size: 64, capacity: 128\n",
      "Building training graph for Text2Mel ...\n",
      "Initialized input character embeddings with dim: (64, ?, 256)\n",
      "Encoded K, V with dim: (64, ?, 256)\n",
      "Encoded Q with dim: (64, ?, 256)\n",
      "Encoded R with dim: (64, ?, 256)\n",
      "Concatenated RQ with dim: (64, ?, 512)\n",
      "Decoded Yhat with dim: (64, ?, 80)\n",
      "Added guided attention loss over A: Tensor(\"Reshape_1:0\", shape=(64, ?, ?), dtype=float32)\n"
     ]
    },
    {
     "name": "stdout",
     "output_type": "stream",
     "text": [
      "INFO:tensorflow:Restoring parameters from ./runs_selected/m3_text2mel_lr4e-4_attn_loss_localEnc/model.ckpt\n"
     ]
    },
    {
     "name": "stderr",
     "output_type": "stream",
     "text": [
      "Restoring parameters from ./runs_selected/m3_text2mel_lr4e-4_attn_loss_localEnc/model.ckpt\n"
     ]
    },
    {
     "name": "stdout",
     "output_type": "stream",
     "text": [
      "INFO:tensorflow:Starting standard services.\n"
     ]
    },
    {
     "name": "stderr",
     "output_type": "stream",
     "text": [
      "Starting standard services.\n"
     ]
    },
    {
     "name": "stdout",
     "output_type": "stream",
     "text": [
      "INFO:tensorflow:Saving checkpoint to path ./runs_selected/m3_text2mel_lr4e-4_attn_loss_localEnc/model.ckpt\n"
     ]
    },
    {
     "name": "stderr",
     "output_type": "stream",
     "text": [
      "Saving checkpoint to path ./runs_selected/m3_text2mel_lr4e-4_attn_loss_localEnc/model.ckpt\n"
     ]
    },
    {
     "name": "stdout",
     "output_type": "stream",
     "text": [
      "INFO:tensorflow:Starting queue runners.\n"
     ]
    },
    {
     "name": "stderr",
     "output_type": "stream",
     "text": [
      "Starting queue runners.\n",
      "  0%|                                           | 0/40 [00:00<?, ?b/s]Prediction loss: 0.6560, L1: 0.0452, CE: 0.4295, Att: 0.0003\n",
      " 50%|█████████████████                 | 20/40 [01:08<01:08,  3.43s/b]Prediction loss: 0.8125, L1: 0.0556, CE: 0.5340, Att: 0.0004\n",
      "Completed predictions: Avg loss: 0.7051, L1: 0.0485, CE: 0.4620, Att: 0.0004\n",
      "Loading in filenames from load_data with mode: train_text2mel\n"
     ]
    },
    {
     "name": "stdout",
     "output_type": "stream",
     "text": [
      "Evaluating training data for ./runs_selected/m4_text2mel_lr4e-4_posEnc_localEnc_60k/params.json\n",
      "Running predictions with model from: ./runs_selected/m4_text2mel_lr4e-4_posEnc_localEnc_60k/params.json\n"
     ]
    },
    {
     "name": "stderr",
     "output_type": "stream",
     "text": [
      "Created input queues for data, total num_batch: 163\n",
      "Defined load_spectrograms op with mode: train_text2mel\n",
      "Created 2 bucketed queues from min/max len 12/188, batch_size: 64, capacity: 128\n",
      "Building training graph for Text2Mel ...\n",
      "Initialized input character embeddings with dim: (64, ?, 256)\n",
      "Initialized position encodings, shapes: (1, 200, 256), (1, 250, 256)\n",
      "Encoded K, V with dim: (64, ?, 256)\n",
      "Encoded Q with dim: (64, ?, 256)\n",
      "Encoded R with dim: (64, ?, 256)\n",
      "Concatenated RQ with dim: (64, ?, 512)\n",
      "Decoded Yhat with dim: (64, ?, 80)\n",
      "Added guided attention loss over A: Tensor(\"Reshape_3:0\", shape=(64, ?, ?), dtype=float32)\n"
     ]
    },
    {
     "name": "stdout",
     "output_type": "stream",
     "text": [
      "INFO:tensorflow:Restoring parameters from ./runs_selected/m4_text2mel_lr4e-4_posEnc_localEnc_60k/model_gs_064k\n"
     ]
    },
    {
     "name": "stderr",
     "output_type": "stream",
     "text": [
      "Restoring parameters from ./runs_selected/m4_text2mel_lr4e-4_posEnc_localEnc_60k/model_gs_064k\n"
     ]
    },
    {
     "name": "stdout",
     "output_type": "stream",
     "text": [
      "INFO:tensorflow:Starting standard services.\n"
     ]
    },
    {
     "name": "stderr",
     "output_type": "stream",
     "text": [
      "Starting standard services.\n"
     ]
    },
    {
     "name": "stdout",
     "output_type": "stream",
     "text": [
      "INFO:tensorflow:Saving checkpoint to path ./runs_selected/m4_text2mel_lr4e-4_posEnc_localEnc_60k/model.ckpt\n"
     ]
    },
    {
     "name": "stderr",
     "output_type": "stream",
     "text": [
      "Saving checkpoint to path ./runs_selected/m4_text2mel_lr4e-4_posEnc_localEnc_60k/model.ckpt\n"
     ]
    },
    {
     "name": "stdout",
     "output_type": "stream",
     "text": [
      "INFO:tensorflow:Starting queue runners.\n"
     ]
    },
    {
     "name": "stderr",
     "output_type": "stream",
     "text": [
      "Starting queue runners.\n",
      "  0%|                                          | 0/163 [00:00<?, ?b/s]Prediction loss: 0.4204, L1: 0.0168, CE: 0.3347, Att: 0.0016\n",
      " 12%|████                             | 20/163 [01:10<08:22,  3.51s/b]Prediction loss: 0.6564, L1: 0.0264, CE: 0.5237, Att: 0.0004\n",
      " 25%|████████                         | 40/163 [02:10<06:39,  3.25s/b]Prediction loss: 0.5250, L1: 0.0211, CE: 0.4188, Att: 0.0009\n",
      " 37%|████████████▏                    | 60/163 [03:10<05:26,  3.17s/b]Prediction loss: 0.4977, L1: 0.0198, CE: 0.3975, Att: 0.0011\n",
      " 49%|████████████████▏                | 80/163 [04:05<04:14,  3.07s/b]Prediction loss: 0.6400, L1: 0.0258, CE: 0.5104, Att: 0.0004\n",
      " 61%|███████████████████▋            | 100/163 [05:06<03:12,  3.06s/b]Prediction loss: 0.4645, L1: 0.0188, CE: 0.3694, Att: 0.0014\n",
      " 74%|███████████████████████▌        | 120/163 [06:04<02:10,  3.04s/b]Prediction loss: 0.4299, L1: 0.0173, CE: 0.3418, Att: 0.0015\n",
      " 86%|███████████████████████████▍    | 140/163 [07:02<01:09,  3.02s/b]Prediction loss: 0.6451, L1: 0.0260, CE: 0.5148, Att: 0.0004\n",
      " 98%|███████████████████████████████▍| 160/163 [08:02<00:09,  3.01s/b]Prediction loss: 0.6423, L1: 0.0259, CE: 0.5126, Att: 0.0004\n",
      "Completed predictions: Avg loss: 0.5699, L1: 0.0230, CE: 0.4543, Att: 0.0008\n",
      "Loading in filenames from load_data with mode: val_text2mel\n"
     ]
    },
    {
     "name": "stdout",
     "output_type": "stream",
     "text": [
      "Evaluating validation data for ./runs_selected/m4_text2mel_lr4e-4_posEnc_localEnc_60k/params.json\n",
      "Running predictions with model from: ./runs_selected/m4_text2mel_lr4e-4_posEnc_localEnc_60k/params.json\n"
     ]
    },
    {
     "name": "stderr",
     "output_type": "stream",
     "text": [
      "Created input queues for data, total num_batch: 40\n",
      "Defined load_spectrograms op with mode: val_text2mel\n",
      "Created 2 bucketed queues from min/max len 16/183, batch_size: 64, capacity: 128\n",
      "Building training graph for Text2Mel ...\n",
      "Initialized input character embeddings with dim: (64, ?, 256)\n",
      "Initialized position encodings, shapes: (1, 200, 256), (1, 250, 256)\n",
      "Encoded K, V with dim: (64, ?, 256)\n",
      "Encoded Q with dim: (64, ?, 256)\n",
      "Encoded R with dim: (64, ?, 256)\n",
      "Concatenated RQ with dim: (64, ?, 512)\n",
      "Decoded Yhat with dim: (64, ?, 80)\n",
      "Added guided attention loss over A: Tensor(\"Reshape_3:0\", shape=(64, ?, ?), dtype=float32)\n"
     ]
    },
    {
     "name": "stdout",
     "output_type": "stream",
     "text": [
      "INFO:tensorflow:Restoring parameters from ./runs_selected/m4_text2mel_lr4e-4_posEnc_localEnc_60k/model.ckpt\n"
     ]
    },
    {
     "name": "stderr",
     "output_type": "stream",
     "text": [
      "Restoring parameters from ./runs_selected/m4_text2mel_lr4e-4_posEnc_localEnc_60k/model.ckpt\n"
     ]
    },
    {
     "name": "stdout",
     "output_type": "stream",
     "text": [
      "INFO:tensorflow:Starting standard services.\n"
     ]
    },
    {
     "name": "stderr",
     "output_type": "stream",
     "text": [
      "Starting standard services.\n"
     ]
    },
    {
     "name": "stdout",
     "output_type": "stream",
     "text": [
      "INFO:tensorflow:Saving checkpoint to path ./runs_selected/m4_text2mel_lr4e-4_posEnc_localEnc_60k/model.ckpt\n"
     ]
    },
    {
     "name": "stderr",
     "output_type": "stream",
     "text": [
      "Saving checkpoint to path ./runs_selected/m4_text2mel_lr4e-4_posEnc_localEnc_60k/model.ckpt\n"
     ]
    },
    {
     "name": "stdout",
     "output_type": "stream",
     "text": [
      "INFO:tensorflow:Starting queue runners.\n"
     ]
    },
    {
     "name": "stderr",
     "output_type": "stream",
     "text": [
      "Starting queue runners.\n",
      "  0%|                                           | 0/40 [00:00<?, ?b/s]Prediction loss: 0.6592, L1: 0.0458, CE: 0.4290, Att: 0.0011\n",
      " 50%|█████████████████                 | 20/40 [01:08<01:08,  3.43s/b]Prediction loss: 0.8106, L1: 0.0557, CE: 0.5317, Att: 0.0006\n",
      "Completed predictions: Avg loss: 0.7079, L1: 0.0490, CE: 0.4621, Att: 0.0008\n",
      "Loading in filenames from load_data with mode: train_text2mel\n"
     ]
    },
    {
     "name": "stdout",
     "output_type": "stream",
     "text": [
      "Evaluating training data for ./runs_selected/m5_text2mel_lr4e-4_posEnc_localEnc_L1_60k/params.json\n",
      "Running predictions with model from: ./runs_selected/m5_text2mel_lr4e-4_posEnc_localEnc_L1_60k/params.json\n"
     ]
    },
    {
     "name": "stderr",
     "output_type": "stream",
     "text": [
      "Created input queues for data, total num_batch: 163\n",
      "Defined load_spectrograms op with mode: train_text2mel\n",
      "Created 2 bucketed queues from min/max len 12/188, batch_size: 64, capacity: 128\n",
      "Building training graph for Text2Mel ...\n",
      "Initialized input character embeddings with dim: (64, ?, 256)\n",
      "Initialized position encodings, shapes: (1, 200, 256), (1, 250, 256)\n",
      "Encoded K, V with dim: (64, ?, 256)\n",
      "Encoded Q with dim: (64, ?, 256)\n",
      "Encoded R with dim: (64, ?, 256)\n",
      "Concatenated RQ with dim: (64, ?, 512)\n",
      "Decoded Yhat with dim: (64, ?, 80)\n",
      "Added guided attention loss over A: Tensor(\"Reshape_3:0\", shape=(64, ?, ?), dtype=float32)\n"
     ]
    },
    {
     "name": "stdout",
     "output_type": "stream",
     "text": [
      "INFO:tensorflow:Restoring parameters from ./runs_selected/m5_text2mel_lr4e-4_posEnc_localEnc_L1_60k/model_gs_065k\n"
     ]
    },
    {
     "name": "stderr",
     "output_type": "stream",
     "text": [
      "Restoring parameters from ./runs_selected/m5_text2mel_lr4e-4_posEnc_localEnc_L1_60k/model_gs_065k\n"
     ]
    },
    {
     "name": "stdout",
     "output_type": "stream",
     "text": [
      "INFO:tensorflow:Starting standard services.\n"
     ]
    },
    {
     "name": "stderr",
     "output_type": "stream",
     "text": [
      "Starting standard services.\n"
     ]
    },
    {
     "name": "stdout",
     "output_type": "stream",
     "text": [
      "INFO:tensorflow:Saving checkpoint to path ./runs_selected/m5_text2mel_lr4e-4_posEnc_localEnc_L1_60k/model.ckpt\n"
     ]
    },
    {
     "name": "stderr",
     "output_type": "stream",
     "text": [
      "Saving checkpoint to path ./runs_selected/m5_text2mel_lr4e-4_posEnc_localEnc_L1_60k/model.ckpt\n"
     ]
    },
    {
     "name": "stdout",
     "output_type": "stream",
     "text": [
      "INFO:tensorflow:Starting queue runners.\n"
     ]
    },
    {
     "name": "stderr",
     "output_type": "stream",
     "text": [
      "Starting queue runners.\n",
      "  0%|                                          | 0/163 [00:00<?, ?b/s]Prediction loss: 0.0857, L1: 0.0165, CE: 0.3219, Att: 0.0033\n",
      " 12%|████                             | 20/163 [01:08<08:09,  3.42s/b]Prediction loss: 0.1346, L1: 0.0268, CE: 0.5260, Att: 0.0007\n",
      " 25%|████████                         | 40/163 [02:08<06:33,  3.20s/b]Prediction loss: 0.1013, L1: 0.0198, CE: 0.3857, Att: 0.0025\n",
      " 37%|████████████▏                    | 60/163 [03:08<05:22,  3.14s/b]Prediction loss: 0.0984, L1: 0.0192, CE: 0.3735, Att: 0.0026\n",
      " 49%|████████████████▏                | 80/163 [04:05<04:14,  3.07s/b]Prediction loss: 0.1136, L1: 0.0223, CE: 0.4265, Att: 0.0019\n",
      " 61%|███████████████████▋            | 100/163 [05:03<03:11,  3.04s/b]Prediction loss: 0.1353, L1: 0.0269, CE: 0.5233, Att: 0.0008\n",
      " 74%|███████████████████████▌        | 120/163 [06:00<02:09,  3.00s/b]Prediction loss: 0.0882, L1: 0.0170, CE: 0.3325, Att: 0.0033\n",
      " 86%|███████████████████████████▍    | 140/163 [07:02<01:09,  3.02s/b]Prediction loss: 0.1312, L1: 0.0261, CE: 0.5151, Att: 0.0008\n",
      " 98%|███████████████████████████████▍| 160/163 [07:59<00:08,  2.99s/b]Prediction loss: 0.1381, L1: 0.0275, CE: 0.5445, Att: 0.0007\n",
      "Completed predictions: Avg loss: 0.1192, L1: 0.0235, CE: 0.4577, Att: 0.0016\n",
      "Loading in filenames from load_data with mode: val_text2mel\n"
     ]
    },
    {
     "name": "stdout",
     "output_type": "stream",
     "text": [
      "Evaluating validation data for ./runs_selected/m5_text2mel_lr4e-4_posEnc_localEnc_L1_60k/params.json\n",
      "Running predictions with model from: ./runs_selected/m5_text2mel_lr4e-4_posEnc_localEnc_L1_60k/params.json\n"
     ]
    },
    {
     "name": "stderr",
     "output_type": "stream",
     "text": [
      "Created input queues for data, total num_batch: 40\n",
      "Defined load_spectrograms op with mode: val_text2mel\n",
      "Created 2 bucketed queues from min/max len 16/183, batch_size: 64, capacity: 128\n",
      "Building training graph for Text2Mel ...\n",
      "Initialized input character embeddings with dim: (64, ?, 256)\n",
      "Initialized position encodings, shapes: (1, 200, 256), (1, 250, 256)\n",
      "Encoded K, V with dim: (64, ?, 256)\n",
      "Encoded Q with dim: (64, ?, 256)\n",
      "Encoded R with dim: (64, ?, 256)\n",
      "Concatenated RQ with dim: (64, ?, 512)\n",
      "Decoded Yhat with dim: (64, ?, 80)\n",
      "Added guided attention loss over A: Tensor(\"Reshape_3:0\", shape=(64, ?, ?), dtype=float32)\n"
     ]
    },
    {
     "name": "stdout",
     "output_type": "stream",
     "text": [
      "INFO:tensorflow:Restoring parameters from ./runs_selected/m5_text2mel_lr4e-4_posEnc_localEnc_L1_60k/model.ckpt\n"
     ]
    },
    {
     "name": "stderr",
     "output_type": "stream",
     "text": [
      "Restoring parameters from ./runs_selected/m5_text2mel_lr4e-4_posEnc_localEnc_L1_60k/model.ckpt\n"
     ]
    },
    {
     "name": "stdout",
     "output_type": "stream",
     "text": [
      "INFO:tensorflow:Starting standard services.\n"
     ]
    },
    {
     "name": "stderr",
     "output_type": "stream",
     "text": [
      "Starting standard services.\n"
     ]
    },
    {
     "name": "stdout",
     "output_type": "stream",
     "text": [
      "INFO:tensorflow:Saving checkpoint to path ./runs_selected/m5_text2mel_lr4e-4_posEnc_localEnc_L1_60k/model.ckpt\n"
     ]
    },
    {
     "name": "stderr",
     "output_type": "stream",
     "text": [
      "Saving checkpoint to path ./runs_selected/m5_text2mel_lr4e-4_posEnc_localEnc_L1_60k/model.ckpt\n"
     ]
    },
    {
     "name": "stdout",
     "output_type": "stream",
     "text": [
      "INFO:tensorflow:Starting queue runners.\n"
     ]
    },
    {
     "name": "stderr",
     "output_type": "stream",
     "text": [
      "Starting queue runners.\n",
      "  0%|                                           | 0/40 [00:00<?, ?b/s]Prediction loss: 0.2314, L1: 0.0459, CE: 0.4344, Att: 0.0021\n",
      " 50%|█████████████████                 | 20/40 [01:06<01:06,  3.32s/b]Prediction loss: 0.2817, L1: 0.0562, CE: 0.5366, Att: 0.0009\n",
      "Completed predictions: Avg loss: 0.2467, L1: 0.0490, CE: 0.4636, Att: 0.0017\n"
     ]
    }
   ],
   "source": [
    "# Get evaluation metric numbers for each\n",
    "train_loss_list = []\n",
    "val_loss_list = []\n",
    "\n",
    "for i,path in enumerate(model_paths):\n",
    "    print(\"Evaluating training data for {}\".format(path))\n",
    "    total_loss, L1_loss, CE_loss, att_out = evaluate.evaluate_model_preds('train_text2mel',path)\n",
    "    train_loss_list.append({'total':total_loss,'L1':L1_loss,'CE':CE_loss,'Attn':att_out})\n",
    "    \n",
    "    print(\"Evaluating validation data for {}\".format(path))\n",
    "    total_loss, L1_loss, CE_loss, att_out = evaluate.evaluate_model_preds('val_text2mel',path)\n",
    "    val_loss_list.append({'total':total_loss,'L1':L1_loss,'CE':CE_loss,'Attn':att_out})"
   ]
  },
  {
   "cell_type": "code",
   "execution_count": 9,
   "metadata": {
    "collapsed": true
   },
   "outputs": [],
   "source": [
    "import pandas as pd \n",
    "train_loss_DF = pd.DataFrame(train_loss_list)\n",
    "val_loss_DF = pd.DataFrame(val_loss_list)\n",
    "train_loss_DF['model'] = ['M'+str(i) for i in range(1,6)]\n",
    "val_loss_DF['model'] = ['M'+str(i) for i in range(1,6)]"
   ]
  },
  {
   "cell_type": "code",
   "execution_count": 13,
   "metadata": {},
   "outputs": [],
   "source": [
    "train_loss_DF['data'] = 'train'\n",
    "val_loss_DF['data'] = 'validation'\n",
    "\n",
    "results_DF = pd.concat([train_loss_DF,val_loss_DF])\n",
    "results_DF.to_csv('loss_metrics.csv',index=False)"
   ]
  },
  {
   "cell_type": "code",
   "execution_count": 28,
   "metadata": {},
   "outputs": [
    {
     "data": {
      "text/html": [
       "<div>\n",
       "<table border=\"1\" class=\"dataframe\">\n",
       "  <thead>\n",
       "    <tr style=\"text-align: right;\">\n",
       "      <th></th>\n",
       "      <th>Attn</th>\n",
       "      <th>CE</th>\n",
       "      <th>L1</th>\n",
       "      <th>total</th>\n",
       "      <th>model</th>\n",
       "      <th>data</th>\n",
       "    </tr>\n",
       "  </thead>\n",
       "  <tbody>\n",
       "    <tr>\n",
       "      <th>0</th>\n",
       "      <td>0.002751</td>\n",
       "      <td>0.458379</td>\n",
       "      <td>0.028818</td>\n",
       "      <td>0.605221</td>\n",
       "      <td>M1</td>\n",
       "      <td>train</td>\n",
       "    </tr>\n",
       "    <tr>\n",
       "      <th>1</th>\n",
       "      <td>0.000374</td>\n",
       "      <td>0.455579</td>\n",
       "      <td>0.024857</td>\n",
       "      <td>0.580237</td>\n",
       "      <td>M2</td>\n",
       "      <td>train</td>\n",
       "    </tr>\n",
       "    <tr>\n",
       "      <th>2</th>\n",
       "      <td>0.000394</td>\n",
       "      <td>0.454933</td>\n",
       "      <td>0.024531</td>\n",
       "      <td>0.577983</td>\n",
       "      <td>M3</td>\n",
       "      <td>train</td>\n",
       "    </tr>\n",
       "    <tr>\n",
       "      <th>3</th>\n",
       "      <td>0.000798</td>\n",
       "      <td>0.454308</td>\n",
       "      <td>0.022952</td>\n",
       "      <td>0.569868</td>\n",
       "      <td>M4</td>\n",
       "      <td>train</td>\n",
       "    </tr>\n",
       "    <tr>\n",
       "      <th>4</th>\n",
       "      <td>0.001578</td>\n",
       "      <td>0.457671</td>\n",
       "      <td>0.023521</td>\n",
       "      <td>0.119184</td>\n",
       "      <td>M5</td>\n",
       "      <td>train</td>\n",
       "    </tr>\n",
       "    <tr>\n",
       "      <th>0</th>\n",
       "      <td>0.002742</td>\n",
       "      <td>0.474808</td>\n",
       "      <td>0.061127</td>\n",
       "      <td>0.783186</td>\n",
       "      <td>M1</td>\n",
       "      <td>validation</td>\n",
       "    </tr>\n",
       "    <tr>\n",
       "      <th>1</th>\n",
       "      <td>0.000399</td>\n",
       "      <td>0.461376</td>\n",
       "      <td>0.048428</td>\n",
       "      <td>0.703915</td>\n",
       "      <td>M2</td>\n",
       "      <td>validation</td>\n",
       "    </tr>\n",
       "    <tr>\n",
       "      <th>2</th>\n",
       "      <td>0.000419</td>\n",
       "      <td>0.461974</td>\n",
       "      <td>0.048540</td>\n",
       "      <td>0.705093</td>\n",
       "      <td>M3</td>\n",
       "      <td>validation</td>\n",
       "    </tr>\n",
       "    <tr>\n",
       "      <th>3</th>\n",
       "      <td>0.000842</td>\n",
       "      <td>0.462074</td>\n",
       "      <td>0.049003</td>\n",
       "      <td>0.707931</td>\n",
       "      <td>M4</td>\n",
       "      <td>validation</td>\n",
       "    </tr>\n",
       "    <tr>\n",
       "      <th>4</th>\n",
       "      <td>0.001702</td>\n",
       "      <td>0.463591</td>\n",
       "      <td>0.049009</td>\n",
       "      <td>0.246745</td>\n",
       "      <td>M5</td>\n",
       "      <td>validation</td>\n",
       "    </tr>\n",
       "  </tbody>\n",
       "</table>\n",
       "</div>"
      ],
      "text/plain": [
       "       Attn        CE        L1     total model        data\n",
       "0  0.002751  0.458379  0.028818  0.605221    M1       train\n",
       "1  0.000374  0.455579  0.024857  0.580237    M2       train\n",
       "2  0.000394  0.454933  0.024531  0.577983    M3       train\n",
       "3  0.000798  0.454308  0.022952  0.569868    M4       train\n",
       "4  0.001578  0.457671  0.023521  0.119184    M5       train\n",
       "0  0.002742  0.474808  0.061127  0.783186    M1  validation\n",
       "1  0.000399  0.461376  0.048428  0.703915    M2  validation\n",
       "2  0.000419  0.461974  0.048540  0.705093    M3  validation\n",
       "3  0.000842  0.462074  0.049003  0.707931    M4  validation\n",
       "4  0.001702  0.463591  0.049009  0.246745    M5  validation"
      ]
     },
     "execution_count": 28,
     "metadata": {},
     "output_type": "execute_result"
    }
   ],
   "source": [
    "results_DF"
   ]
  },
  {
   "cell_type": "markdown",
   "metadata": {},
   "source": [
    "# Evaluating SSRN"
   ]
  },
  {
   "cell_type": "code",
   "execution_count": null,
   "metadata": {
    "collapsed": true
   },
   "outputs": [],
   "source": []
  }
 ],
 "metadata": {
  "kernelspec": {
   "display_name": "Python [default]",
   "language": "python",
   "name": "python3"
  },
  "language_info": {
   "codemirror_mode": {
    "name": "ipython",
    "version": 3
   },
   "file_extension": ".py",
   "mimetype": "text/x-python",
   "name": "python",
   "nbconvert_exporter": "python",
   "pygments_lexer": "ipython3",
   "version": "3.5.2"
  }
 },
 "nbformat": 4,
 "nbformat_minor": 2
}
