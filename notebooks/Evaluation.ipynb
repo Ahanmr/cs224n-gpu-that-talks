{
 "cells": [
  {
   "cell_type": "code",
   "execution_count": 1,
   "metadata": {},
   "outputs": [],
   "source": [
    "import matplotlib\n",
    "import tensorflow as tf \n",
    "import os,sys,glob\n",
    "import pandas as pd \n",
    "sys.path.append(\"../\")\n",
    "import evaluate, src.graph\n",
    "os.chdir(\"../\")"
   ]
  },
  {
   "cell_type": "markdown",
   "metadata": {},
   "source": [
    "# Evaluating Text2Mel"
   ]
  },
  {
   "cell_type": "code",
   "execution_count": 2,
   "metadata": {},
   "outputs": [
    {
     "data": {
      "text/plain": [
       "['./runs/text2mel_lr4e-4_attn_loss/params.json',\n",
       " './runs/text2mel_lr4e-4_attn_loss_50k/params.json',\n",
       " './runs/text2mel_lr4e-4_attn_loss_localEnc/params.json']"
      ]
     },
     "execution_count": 2,
     "metadata": {},
     "output_type": "execute_result"
    }
   ],
   "source": [
    "# runs_path = '../runs_selected/*text2mel*/params.json'\n",
    "runs_path = './runs/*text2mel*/params.json'\n",
    "model_paths = sorted(glob.glob(runs_path))\n",
    "model_paths"
   ]
  },
  {
   "cell_type": "code",
   "execution_count": null,
   "metadata": {
    "scrolled": true
   },
   "outputs": [],
   "source": [
    "# Get evaluation metric numbers for each\n",
    "train_loss_list = []\n",
    "val_loss_list = []\n",
    "\n",
    "for i,path in enumerate(model_paths):\n",
    "    print(\"Evaluating training data for {}\".format(path))\n",
    "    total_loss, L1_loss, CE_loss, att_out = evaluate.evaluate_model_preds(path,'train_text2mel')\n",
    "    train_loss_list.append({'total':total_loss,'L1':L1_loss,'CE':CE_loss,'Attn':att_out})\n",
    "    \n",
    "    print(\"Evaluating validation data for {}\".format(path))\n",
    "    total_loss, L1_loss, CE_loss, att_out = evaluate.evaluate_model_preds(path,'val_text2mel')\n",
    "    val_loss_list.append({'total':total_loss,'L1':L1_loss,'CE':CE_loss,'Attn':att_out})"
   ]
  },
  {
   "cell_type": "code",
   "execution_count": 9,
   "metadata": {
    "collapsed": true
   },
   "outputs": [],
   "source": [
    "## Creating a table with compiled model results \n",
    "train_loss_DF = pd.DataFrame(train_loss_list)\n",
    "val_loss_DF = pd.DataFrame(val_loss_list)\n",
    "train_loss_DF['model'] = ['M'+str(i) for i in range(1,len(train_loss_list)+1)] \n",
    "val_loss_DF['model'] = ['M'+str(i) for i in range(1,len(train_loss_list)+1)]"
   ]
  },
  {
   "cell_type": "code",
   "execution_count": 13,
   "metadata": {},
   "outputs": [],
   "source": [
    "train_loss_DF['data'] = 'train'\n",
    "val_loss_DF['data'] = 'validation'\n",
    "\n",
    "results_DF = pd.concat([train_loss_DF,val_loss_DF])\n",
    "results_DF.to_csv('loss_metrics.csv',index=False)"
   ]
  },
  {
   "cell_type": "code",
   "execution_count": 28,
   "metadata": {},
   "outputs": [
    {
     "data": {
      "text/html": [
       "<div>\n",
       "<table border=\"1\" class=\"dataframe\">\n",
       "  <thead>\n",
       "    <tr style=\"text-align: right;\">\n",
       "      <th></th>\n",
       "      <th>Attn</th>\n",
       "      <th>CE</th>\n",
       "      <th>L1</th>\n",
       "      <th>total</th>\n",
       "      <th>model</th>\n",
       "      <th>data</th>\n",
       "    </tr>\n",
       "  </thead>\n",
       "  <tbody>\n",
       "    <tr>\n",
       "      <th>0</th>\n",
       "      <td>0.002751</td>\n",
       "      <td>0.458379</td>\n",
       "      <td>0.028818</td>\n",
       "      <td>0.605221</td>\n",
       "      <td>M1</td>\n",
       "      <td>train</td>\n",
       "    </tr>\n",
       "    <tr>\n",
       "      <th>1</th>\n",
       "      <td>0.000374</td>\n",
       "      <td>0.455579</td>\n",
       "      <td>0.024857</td>\n",
       "      <td>0.580237</td>\n",
       "      <td>M2</td>\n",
       "      <td>train</td>\n",
       "    </tr>\n",
       "    <tr>\n",
       "      <th>2</th>\n",
       "      <td>0.000394</td>\n",
       "      <td>0.454933</td>\n",
       "      <td>0.024531</td>\n",
       "      <td>0.577983</td>\n",
       "      <td>M3</td>\n",
       "      <td>train</td>\n",
       "    </tr>\n",
       "    <tr>\n",
       "      <th>3</th>\n",
       "      <td>0.000798</td>\n",
       "      <td>0.454308</td>\n",
       "      <td>0.022952</td>\n",
       "      <td>0.569868</td>\n",
       "      <td>M4</td>\n",
       "      <td>train</td>\n",
       "    </tr>\n",
       "    <tr>\n",
       "      <th>4</th>\n",
       "      <td>0.001578</td>\n",
       "      <td>0.457671</td>\n",
       "      <td>0.023521</td>\n",
       "      <td>0.119184</td>\n",
       "      <td>M5</td>\n",
       "      <td>train</td>\n",
       "    </tr>\n",
       "    <tr>\n",
       "      <th>0</th>\n",
       "      <td>0.002742</td>\n",
       "      <td>0.474808</td>\n",
       "      <td>0.061127</td>\n",
       "      <td>0.783186</td>\n",
       "      <td>M1</td>\n",
       "      <td>validation</td>\n",
       "    </tr>\n",
       "    <tr>\n",
       "      <th>1</th>\n",
       "      <td>0.000399</td>\n",
       "      <td>0.461376</td>\n",
       "      <td>0.048428</td>\n",
       "      <td>0.703915</td>\n",
       "      <td>M2</td>\n",
       "      <td>validation</td>\n",
       "    </tr>\n",
       "    <tr>\n",
       "      <th>2</th>\n",
       "      <td>0.000419</td>\n",
       "      <td>0.461974</td>\n",
       "      <td>0.048540</td>\n",
       "      <td>0.705093</td>\n",
       "      <td>M3</td>\n",
       "      <td>validation</td>\n",
       "    </tr>\n",
       "    <tr>\n",
       "      <th>3</th>\n",
       "      <td>0.000842</td>\n",
       "      <td>0.462074</td>\n",
       "      <td>0.049003</td>\n",
       "      <td>0.707931</td>\n",
       "      <td>M4</td>\n",
       "      <td>validation</td>\n",
       "    </tr>\n",
       "    <tr>\n",
       "      <th>4</th>\n",
       "      <td>0.001702</td>\n",
       "      <td>0.463591</td>\n",
       "      <td>0.049009</td>\n",
       "      <td>0.246745</td>\n",
       "      <td>M5</td>\n",
       "      <td>validation</td>\n",
       "    </tr>\n",
       "  </tbody>\n",
       "</table>\n",
       "</div>"
      ],
      "text/plain": [
       "       Attn        CE        L1     total model        data\n",
       "0  0.002751  0.458379  0.028818  0.605221    M1       train\n",
       "1  0.000374  0.455579  0.024857  0.580237    M2       train\n",
       "2  0.000394  0.454933  0.024531  0.577983    M3       train\n",
       "3  0.000798  0.454308  0.022952  0.569868    M4       train\n",
       "4  0.001578  0.457671  0.023521  0.119184    M5       train\n",
       "0  0.002742  0.474808  0.061127  0.783186    M1  validation\n",
       "1  0.000399  0.461376  0.048428  0.703915    M2  validation\n",
       "2  0.000419  0.461974  0.048540  0.705093    M3  validation\n",
       "3  0.000842  0.462074  0.049003  0.707931    M4  validation\n",
       "4  0.001702  0.463591  0.049009  0.246745    M5  validation"
      ]
     },
     "execution_count": 28,
     "metadata": {},
     "output_type": "execute_result"
    }
   ],
   "source": [
    "results_DF"
   ]
  },
  {
   "cell_type": "code",
   "execution_count": null,
   "metadata": {
    "collapsed": true
   },
   "outputs": [],
   "source": []
  }
 ],
 "metadata": {
  "kernelspec": {
   "display_name": "Python 3",
   "language": "python",
   "name": "python3"
  },
  "language_info": {
   "codemirror_mode": {
    "name": "ipython",
    "version": 3
   },
   "file_extension": ".py",
   "mimetype": "text/x-python",
   "name": "python",
   "nbconvert_exporter": "python",
   "pygments_lexer": "ipython3",
   "version": "3.6.4"
  }
 },
 "nbformat": 4,
 "nbformat_minor": 2
}
